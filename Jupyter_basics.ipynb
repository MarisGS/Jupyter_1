{
 "cells": [
  {
   "cell_type": "markdown",
   "id": "fac2e68b-b2cd-410b-bb22-9909d291123d",
   "metadata": {},
   "source": [
    "# Why Jupyter? #\n",
    "\n",
    "Jupyter Notebooks combine text, pictures and equations with executable program code, primary in *Python*, but not limited to it. \n",
    "\n",
    "Text or code are two of the types that can be assigned to a Notebook basic elements - *cells*.\n",
    "\n",
    "Text in cells can be formated using combined syntax of three text formating languages:\n",
    "\n",
    "- Markdown\n",
    "- HTML (Hypertext Markup Language)\n",
    "- LaTeX \n"
   ]
  },
  {
   "cell_type": "markdown",
   "id": "f6726eff-c327-4b52-a9ca-f1fd8141fbbb",
   "metadata": {},
   "source": [
    "# Markdown #\n",
    "\n",
    "Programming language for simple text formating.\n",
    "\n",
    "Basic sytnax:\n",
    "\n",
    "\n",
    "<table class=\"table table-bordered\">\n",
    "  <thead class=\"thead-light\">\n",
    "    <tr>\n",
    "      <th>Element</th>\n",
    "      <th>Markdown Syntax</th>\n",
    "    </tr>\n",
    "  </thead>\n",
    "  <tbody>\n",
    "    <tr>\n",
    "      <td><a href=\"/basic-syntax/#headings\">Heading</a></td>\n",
    "      <td><code># H1<br />\n",
    "          ## H2<br />\n",
    "          ### H3</code></td>\n",
    "    </tr>\n",
    "    <tr>\n",
    "      <td><a href=\"/basic-syntax/#bold\">Bold</a></td>\n",
    "      <td><code>**bold text**</code></td>\n",
    "    </tr>\n",
    "    <tr>\n",
    "      <td><a href=\"/basic-syntax/#italic\">Italic</a></td>\n",
    "      <td><code>*italicized text*</code></td>\n",
    "    </tr>\n",
    "    <tr>\n",
    "      <td><a href=\"/basic-syntax/#blockquotes-1\">Blockquote</a></td>\n",
    "      <td><code>&gt; blockquote</code></td>\n",
    "    </tr>\n",
    "    <tr>\n",
    "      <td><a href=\"/basic-syntax/#ordered-lists\">Ordered List</a></td>\n",
    "      <td><code>\n",
    "        1. First item<br />\n",
    "        2. Second item<br />\n",
    "        3. Third item<br />\n",
    "      </code></td>\n",
    "    </tr>\n",
    "    <tr>\n",
    "      <td><a href=\"/basic-syntax/#unordered-lists\">Unordered List</a></td>\n",
    "      <td>\n",
    "        <code>\n",
    "          - First item<br />\n",
    "          - Second item<br />\n",
    "          - Third item<br />\n",
    "        </code>\n",
    "      </td>\n",
    "    </tr>\n",
    "    <tr>\n",
    "      <td><a href=\"/basic-syntax/#code\">Code</a></td>\n",
    "      <td><code>`code`</code></td>\n",
    "    </tr>\n",
    "    <tr>\n",
    "      <td><a href=\"/basic-syntax/#horizontal-rules\">Horizontal Rule</a></td>\n",
    "      <td><code>---</code></td>\n",
    "    </tr>\n",
    "    <tr>\n",
    "      <td><a href=\"/basic-syntax/#links\">Link</a></td>\n",
    "      <td><code>[title](https://www.example.com)</code></td>\n",
    "    </tr>\n",
    "  </tbody>\n",
    "</table>"
   ]
  },
  {
   "cell_type": "markdown",
   "id": "3aa1b093-aff5-44fd-9911-6be1eeaffed5",
   "metadata": {},
   "source": [
    "# HTML #\n",
    "\n",
    "Markdown is simle to use but has is quit limited.\n",
    "\n",
    "Much more can be achieved, using HTML.\n",
    "\n",
    "Create new cell bellow this one.\n",
    "\n",
    "Try to copy following code to the next cell, select cell type **Markdown**.\n",
    "```\n",
    "<head>\n",
    "  <title>Title of the document</title>\n",
    "</head>\n",
    "\n",
    "<body>\n",
    "\n",
    "<h1>This is a heading</h1>\n",
    "<p>This is a paragraph.</p>\n",
    "\n",
    "</body>\n",
    "```"
   ]
  },
  {
   "cell_type": "markdown",
   "id": "08677726-1caa-40a2-a5c5-4575eb002015",
   "metadata": {},
   "source": [
    "This is how font style can be changed in HTML.\n",
    "\n",
    "```\n",
    "<p style=\"font-family:verdana\">This is a paragraph.</p>\n",
    "<p style=\"font-family:'Courier New'\">This is another paragraph.</p>\n",
    "\n",
    "```"
   ]
  },
  {
   "cell_type": "markdown",
   "id": "35bbdfd4-3440-4766-88ac-ed417aa10e1b",
   "metadata": {},
   "source": [
    "Font colors can be changed only in HTML, not in Markdown.\n",
    "\n",
    "```\n",
    "<p style=\"color:red\">This is a paragraph.</p>\n",
    "<p style=\"color:blue\">This is another paragraph.</p>\n",
    "\n",
    "```\n",
    "\n",
    "Lear more about HTML: <link> https://www.w3schools.com/html/default.asp </link>"
   ]
  },
  {
   "cell_type": "markdown",
   "id": "e8504386-a063-4f35-bb2b-46b3f3aff9d2",
   "metadata": {},
   "source": [
    "# LaTeX #\n",
    "\n",
    "LaTeX is a high-quality typesetting system; it includes features designed for the production of technical and scientific documentation. LaTeX is the de facto standard for the communication and publication of scientific documents.\n",
    "\n",
    "In Markdown cells, LaTeX is mainly used to genereate greek letters and scientific formulas.\n",
    "\n",
    "LaTeX statments begin and end with Dollar signs. One <code>$</code>  means that LaTeX output is rendered by justifying it by left side of the document, and two signs <code>$$</code> places output at the center of the document.\n",
    "\n",
    "Example:\n",
    "\n",
    "<code>$ \\alpha $</code> $ \\alpha $\n",
    "\n",
    "<code>$$ \\frac {a \\cdot b}{\\rho} $$</code> $$\\frac {a \\cdot b}{\\rho}$$\n",
    "\n"
   ]
  },
  {
   "cell_type": "code",
   "execution_count": null,
   "id": "a3261724-832a-4c57-91e0-c65c3e291251",
   "metadata": {},
   "outputs": [],
   "source": [
    "# A code cell is placing executable Python cod"
   ]
  }
 ],
 "metadata": {
  "kernelspec": {
   "display_name": "Python 3 (ipykernel)",
   "language": "python",
   "name": "python3"
  },
  "language_info": {
   "codemirror_mode": {
    "name": "ipython",
    "version": 3
   },
   "file_extension": ".py",
   "mimetype": "text/x-python",
   "name": "python",
   "nbconvert_exporter": "python",
   "pygments_lexer": "ipython3",
   "version": "3.10.9"
  }
 },
 "nbformat": 4,
 "nbformat_minor": 5
}
